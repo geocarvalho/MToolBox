{
  "nbformat": 4,
  "nbformat_minor": 0,
  "metadata": {
    "colab": {
      "name": "PSO.ipynb",
      "provenance": [],
      "collapsed_sections": [],
      "authorship_tag": "ABX9TyNPTsFibS6Er5bRTPb2yHyO",
      "include_colab_link": true
    },
    "kernelspec": {
      "name": "python3",
      "display_name": "Python 3"
    }
  },
  "cells": [
    {
      "cell_type": "markdown",
      "metadata": {
        "id": "view-in-github",
        "colab_type": "text"
      },
      "source": [
        "<a href=\"https://colab.research.google.com/github/geocarvalho/MToolBox/blob/master/IN1164/project_1/PSO.ipynb\" target=\"_parent\"><img src=\"https://colab.research.google.com/assets/colab-badge.svg\" alt=\"Open In Colab\"/></a>"
      ]
    },
    {
      "cell_type": "markdown",
      "metadata": {
        "id": "ldjXjxI_fpHS",
        "colab_type": "text"
      },
      "source": [
        "# Implementação: \n",
        "- PSO padrão e uma variação.\n",
        "- ABC (ou Firefly) padrão e uma variação.\n",
        "\n",
        "\n",
        "Testar em 6 funções de benchmark com variação de atributos de 10, 20 e 50.\n",
        "Funções:\n",
        "- [Ackley function](http://benchmarkfcns.xyz/benchmarkfcns/ackleyfcn.html) - [em python](https://www.cs.unm.edu/~neal.holts/dga/benchmarkFunction/ackley.html)\n",
        "- [Alpine function](http://benchmarkfcns.xyz/benchmarkfcns/alpinen1fcn.html)\n",
        "- [Schwefel Function](http://benchmarkfcns.xyz/benchmarkfcns/schwefelfcn.html) - [em python](https://www.cs.unm.edu/~neal.holts/dga/benchmarkFunction/schwefel.html)\n",
        "- [Happy Cat Function](http://benchmarkfcns.xyz/benchmarkfcns/happycatfcn.html) \n",
        "- [Brown function](http://benchmarkfcns.xyz/benchmarkfcns/brownfcn.html)\n",
        "- [Exponential function](http://benchmarkfcns.xyz/benchmarkfcns/exponentialfcn.html)\n",
        "\n",
        "Para funções olhar o site: http://benchmarkfcns.xyz/\n",
        "\n",
        "# Funções de fitness\n"
      ]
    },
    {
      "cell_type": "code",
      "metadata": {
        "id": "Au52g_W1XP1O",
        "colab_type": "code",
        "colab": {}
      },
      "source": [
        "def fitness_function(position):\n",
        "  \"\"\" Simple function that models the problem \"\"\"\n",
        "  return position[0]**2 + position[1]**2 + 1\n",
        "\n",
        "def ackleyFunc(positions):\n",
        "  \"\"\" Ackley function\"\"\"\n",
        "  c = np.array(positions)\n",
        "  firstSum = np.sum(c**2.0)\n",
        "  secondSum = np.sum(np.cos(2.0*math.pi*c))\n",
        "  n = float(len(positions))\n",
        "  return -20.0*math.exp(-0.2*math.sqrt(firstSum/n)) - math.exp(secondSum/n) + 20 + math.e\n",
        "\n",
        "def alpineFunc(positions):\n",
        "  \"\"\" Alpine function \"\"\"\n",
        "  c = np.array(positions)\n",
        "  scores = np.sum(abs(c * np.sin(c) + 0.1*c))\n",
        "  return scores\n",
        "\n",
        "def schwefelFunc(positions):\n",
        "  \"\"\"F7 Schwefel's function\n",
        "  multimodal, asymmetric, separable\"\"\"\n",
        "  c = np.array(positions)\n",
        "  n = len(c)\n",
        "  alpha = 418.982887\n",
        "  fitness = np.sum(c * np.sin(np.sqrt(abs(c))))\n",
        "  return alpha * n - fitness\n",
        "\n",
        "def happyCatFunc(positions):\n",
        "  \"\"\" Happy Cat function \"\"\"\n",
        "  alpha = 0.5\n",
        "  c = np.array(positions)\n",
        "  n = len(c)\n",
        "  x2 = np.sum(c*c)\n",
        "  scores = (((x2 - n)**2)**alpha + (0.5*x2 + np.sum(c)))/ (n + 0.5)\n",
        "  return scores\n",
        "\n",
        "def brownFunc(positions):\n",
        "  \"\"\" Brown function \"\"\"\n",
        "  c = np.array(positions)\n",
        "  n = len(c)\n",
        "  x = c**2\n",
        "  scores = 0\n",
        "  for i in range(n-1):\n",
        "    scores = scores + x[i]**(x[i+1] + 1) + x[i+1]**(x[i]+1)\n",
        "  return scores\n",
        "\n",
        "def exponentialFunc(positions):\n",
        "  \"\"\" Exponential function \"\"\"\n",
        "  c = np.array(positions)\n",
        "  x2 = c**2\n",
        "  scores = -np.exp(-0.5 * np.sum(x2))\n",
        "  return scores\n"
      ],
      "execution_count": 106,
      "outputs": []
    },
    {
      "cell_type": "markdown",
      "metadata": {
        "id": "L6WM35o7X1Rl",
        "colab_type": "text"
      },
      "source": [
        "# PSO padrão\n",
        "\n",
        "* [1995 Particle swarm optimization](https://ieeexplore.ieee.org/abstract/document/488968)\n",
        "* [A novel particle swarm optimization algorithm with adaptive inertia weight](https://www.sciencedirect.com/science/article/abs/pii/S156849461100055X)\n",
        "* [The particle swarm optimization algorithm: convergence analysis and parameter selection](https://www.sciencedirect.com/science/article/abs/pii/S0020019002004477)\n",
        "* [An Overview of Particle Swarm Optimization Variants](https://www.sciencedirect.com/science/article/pii/S1877705813001823)"
      ]
    },
    {
      "cell_type": "code",
      "metadata": {
        "id": "oP0m_ZjiiePa",
        "colab_type": "code",
        "colab": {
          "base_uri": "https://localhost:8080/",
          "height": 923
        },
        "outputId": "b3be5769-e428-47f1-9e72-26d6fed93058"
      },
      "source": [
        "import random\n",
        "import numpy as np\n",
        "\n",
        "# Constants\n",
        "W = 0.5\n",
        "c1 = 0.8\n",
        "c2 = 0.9\n",
        "target = 1\n",
        "\n",
        "n_iterations = 50\n",
        "target_error = 1e-6\n",
        "n_particles = 30\n",
        "dimensions = 2\n",
        "\n",
        "# Inicialization\n",
        "particle_position_vector = np.random.uniform(-50,50,(n_particles, dimensions))\n",
        "pbest_position = particle_position_vector\n",
        "pbest_fitness_value = np.full(shape=n_particles, fill_value=float('inf'))\n",
        "gbest_fitness_value = float('inf')\n",
        "gbest_position = np.array([float('inf'), float('inf')])\n",
        "velocity_vector = np.zeros(shape=(n_particles, dimensions))\n",
        "iteration = 0\n",
        "\n",
        "# Start iterations\n",
        "while iteration < n_iterations:\n",
        "  for i in range(n_particles):\n",
        "    fitness_candidate = exponentialFunc(particle_position_vector[i])\n",
        "    # Calculate pbest\n",
        "    if pbest_fitness_value[i] > fitness_candidate:\n",
        "      pbest_fitness_value[i] = fitness_candidate\n",
        "      pbest_position[i] = particle_position_vector[i]\n",
        "    # Calculate gbest\n",
        "    if gbest_fitness_value > fitness_candidate:\n",
        "      gbest_fitness_value = fitness_candidate\n",
        "      gbest_position = particle_position_vector[i]\n",
        "  # Check error rate to finish process\n",
        "  print(gbest_fitness_value, \" :\", gbest_position)\n",
        "  # if gbest_fitness_value - target <= target_error:\n",
        "  #   break\n",
        "  # Update velocity of each particle\n",
        "  for i in range(n_particles):\n",
        "    new_velocity = (W * velocity_vector[i]) + \\\n",
        "    ((c1 * random.random()) * (pbest_position[i] - particle_position_vector[i])) + \\\n",
        "    ((c2 * random.random()) * (gbest_position - particle_position_vector[i]))\n",
        "    new_position = new_velocity + particle_position_vector[i]\n",
        "    particle_position_vector[i] = new_position\n",
        "\n",
        "  iteration += 1\n",
        "\n",
        "print(\"The best position is: \", gbest_position, \" with value of \", gbest_fitness_value,\n",
        "      \" in iteration number \", iteration)\n"
      ],
      "execution_count": 111,
      "outputs": [
        {
          "output_type": "stream",
          "text": [
            "-5.262170395241084e-51  : [  6.8023158  -13.61143241]\n",
            "-2.79971916724729e-05  : [4.5650613  0.35640995]\n",
            "-2.79971916724729e-05  : [4.5650613  0.35640995]\n",
            "-0.002315096812275183  : [2.53135998 2.39349623]\n",
            "-0.9945510454747402  : [-0.04711842  0.09331432]\n",
            "-0.9945510454747402  : [-0.04711842  0.09331432]\n",
            "-0.9953391626280761  : [0.09628292 0.00854784]\n",
            "-0.9972034564717929  : [-0.01371857  0.07357121]\n",
            "-0.9996970626240462  : [0.02104971 0.0127623 ]\n",
            "-0.9999865461021762  : [ 0.00487783 -0.00176487]\n",
            "-0.9999865461021762  : [ 0.00487783 -0.00176487]\n",
            "-0.9999865461021762  : [ 0.00487783 -0.00176487]\n",
            "-0.9999865461021762  : [ 0.00487783 -0.00176487]\n",
            "-0.9999865461021762  : [ 0.00487783 -0.00176487]\n",
            "-0.9999865957253024  : [ 5.17762342e-03 -3.07368705e-05]\n",
            "-0.9999869457941025  : [ 0.00500544 -0.00102674]\n",
            "-0.9999869483431071  : [ 0.00505674 -0.00072998]\n",
            "-0.99998695695864  : [ 0.00502325 -0.00092368]\n",
            "-0.9999876852870366  : [ 0.00413483 -0.00274458]\n",
            "-0.999987937262681  : [ 0.00431869 -0.00233978]\n",
            "-0.9999890874369282  : [0.00465817 0.00035597]\n",
            "-0.9999895462809254  : [ 0.00452868 -0.00063133]\n",
            "-0.9999895462809254  : [ 0.00452868 -0.00063133]\n",
            "-0.9999895541476509  : [ 0.00448059 -0.00090342]\n",
            "-0.9999895656558235  : [ 0.00449333 -0.00082388]\n",
            "-0.9999895677399887  : [ 0.00450043 -0.00078149]\n",
            "-0.9999895677399887  : [ 0.00450043 -0.00078149]\n",
            "-0.999989568303131  : [ 0.00450775 -0.00073738]\n",
            "-0.9999895683691558  : [ 0.00450613 -0.0007471 ]\n",
            "-0.9999895683691558  : [ 0.00450613 -0.0007471 ]\n",
            "-0.9999895683691558  : [ 0.00450613 -0.0007471 ]\n",
            "-0.9999895683691558  : [ 0.00450613 -0.0007471 ]\n",
            "-0.9999895683691558  : [ 0.00450613 -0.0007471 ]\n",
            "-0.9999895683691558  : [ 0.00450613 -0.0007471 ]\n",
            "-0.9999895683691558  : [ 0.00450613 -0.0007471 ]\n",
            "-0.9999895683691558  : [ 0.00450613 -0.0007471 ]\n",
            "-0.9999895683691558  : [ 0.00450613 -0.0007471 ]\n",
            "-0.9999895683691558  : [ 0.00450613 -0.0007471 ]\n",
            "-0.9999895683691558  : [ 0.00450613 -0.0007471 ]\n",
            "-0.9999895683691558  : [ 0.00450613 -0.0007471 ]\n",
            "-0.9999895683691558  : [ 0.00450613 -0.0007471 ]\n",
            "-0.9999895683691558  : [ 0.00450613 -0.0007471 ]\n",
            "-0.9999895683691558  : [ 0.00450613 -0.0007471 ]\n",
            "-0.9999895683691558  : [ 0.00450613 -0.0007471 ]\n",
            "-0.9999895683691558  : [ 0.00450613 -0.0007471 ]\n",
            "-0.9999895683691558  : [ 0.00450613 -0.0007471 ]\n",
            "-0.9999895683691558  : [ 0.00450613 -0.0007471 ]\n",
            "-0.9999895683691558  : [ 0.00450613 -0.0007471 ]\n",
            "-0.9999895683691558  : [ 0.00450613 -0.0007471 ]\n",
            "-0.9999895683691558  : [ 0.00450613 -0.0007471 ]\n",
            "The best position is:  [ 0.00450613 -0.0007471 ]  with value of  -0.9999895683691558  in iteration number  50\n"
          ],
          "name": "stdout"
        }
      ]
    },
    {
      "cell_type": "code",
      "metadata": {
        "id": "deK75GBtRCdD",
        "colab_type": "code",
        "colab": {}
      },
      "source": [
        ""
      ],
      "execution_count": null,
      "outputs": []
    }
  ]
}